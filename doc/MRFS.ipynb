{
 "cells": [
  {
   "cell_type": "code",
   "execution_count": 12,
   "metadata": {
    "collapsed": false
   },
   "outputs": [],
   "source": [
    "using BayesNets"
   ]
  },
  {
   "cell_type": "markdown",
   "metadata": {},
   "source": [
    "# Usage for Markov Fields\n",
    "\n",
    "## Basic Usage\n",
    "\n",
    "A Markov Field is represented as an MRF type containting an undirected graph modeling the conditional independence of the joint probability distribution. Each node is associated to a name, and an MRF contains a list of `Factor`s, who represent the probability distribution. The joint probability distribution is the product of all the `Factor`s. \n",
    "\n",
    "So far this only supports discrete distributions. Priority to extend this to Gaussian models."
   ]
  },
  {
   "cell_type": "markdown",
   "metadata": {},
   "source": [
    "To build an MRF, the recommended way is simply to construct factors, then to call the MRF constructor with a list of factors. The constructor will then build the representation of the MRF (i.e. an edge will be added between all nodes that are featured in common factors)."
   ]
  },
  {
   "cell_type": "code",
   "execution_count": 13,
   "metadata": {
    "collapsed": false
   },
   "outputs": [
    {
     "data": {
      "image/svg+xml": [
       "<?xml version=\"1.0\" encoding=\"UTF-8\"?>\n",
       "<svg xmlns=\"http://www.w3.org/2000/svg\" xmlns:xlink=\"http://www.w3.org/1999/xlink\" width=\"12.18pt\" height=\"67.907pt\" viewBox=\"0 0 12.18 67.907\" version=\"1.1\">\n",
       "<defs>\n",
       "<g>\n",
       "<symbol overflow=\"visible\" id=\"glyph-1485548607131393-0-0\">\n",
       "<path style=\"stroke:none;\" d=\"\"/>\n",
       "</symbol>\n",
       "<symbol overflow=\"visible\" id=\"glyph-1485548607131393-0-1\">\n",
       "<path style=\"stroke:none;\" d=\"M 4.8125 -0.890625 L 4.8125 -1.453125 L 4.5625 -1.453125 L 4.5625 -0.890625 C 4.5625 -0.3125 4.3125 -0.25 4.203125 -0.25 C 3.875 -0.25 3.84375 -0.703125 3.84375 -0.75 L 3.84375 -2.734375 C 3.84375 -3.15625 3.84375 -3.546875 3.484375 -3.921875 C 3.09375 -4.3125 2.59375 -4.46875 2.109375 -4.46875 C 1.296875 -4.46875 0.609375 -4 0.609375 -3.34375 C 0.609375 -3.046875 0.8125 -2.875 1.0625 -2.875 C 1.34375 -2.875 1.53125 -3.078125 1.53125 -3.328125 C 1.53125 -3.453125 1.46875 -3.78125 1.015625 -3.78125 C 1.28125 -4.140625 1.78125 -4.25 2.09375 -4.25 C 2.578125 -4.25 3.15625 -3.859375 3.15625 -2.96875 L 3.15625 -2.609375 C 2.640625 -2.578125 1.9375 -2.546875 1.3125 -2.25 C 0.5625 -1.90625 0.3125 -1.390625 0.3125 -0.953125 C 0.3125 -0.140625 1.28125 0.109375 1.90625 0.109375 C 2.578125 0.109375 3.03125 -0.296875 3.21875 -0.75 C 3.265625 -0.359375 3.53125 0.0625 4 0.0625 C 4.203125 0.0625 4.8125 -0.078125 4.8125 -0.890625 Z M 3.15625 -1.390625 C 3.15625 -0.453125 2.4375 -0.109375 1.984375 -0.109375 C 1.5 -0.109375 1.09375 -0.453125 1.09375 -0.953125 C 1.09375 -1.5 1.5 -2.328125 3.15625 -2.390625 Z M 3.15625 -1.390625 \"/>\n",
       "</symbol>\n",
       "<symbol overflow=\"visible\" id=\"glyph-1485548607131393-0-2\">\n",
       "<path style=\"stroke:none;\" d=\"M 5.1875 -2.15625 C 5.1875 -3.421875 4.21875 -4.40625 3.078125 -4.40625 C 2.296875 -4.40625 1.875 -3.9375 1.71875 -3.765625 L 1.71875 -6.921875 L 0.28125 -6.8125 L 0.28125 -6.5 C 0.984375 -6.5 1.0625 -6.4375 1.0625 -5.9375 L 1.0625 0 L 1.3125 0 L 1.671875 -0.625 C 1.8125 -0.390625 2.234375 0.109375 2.96875 0.109375 C 4.15625 0.109375 5.1875 -0.875 5.1875 -2.15625 Z M 4.359375 -2.15625 C 4.359375 -1.796875 4.34375 -1.203125 4.0625 -0.75 C 3.84375 -0.4375 3.46875 -0.109375 2.9375 -0.109375 C 2.484375 -0.109375 2.125 -0.34375 1.890625 -0.71875 C 1.75 -0.921875 1.75 -0.953125 1.75 -1.140625 L 1.75 -3.1875 C 1.75 -3.375 1.75 -3.390625 1.859375 -3.546875 C 2.25 -4.109375 2.796875 -4.1875 3.03125 -4.1875 C 3.484375 -4.1875 3.84375 -3.921875 4.078125 -3.546875 C 4.34375 -3.140625 4.359375 -2.578125 4.359375 -2.15625 Z M 4.359375 -2.15625 \"/>\n",
       "</symbol>\n",
       "<symbol overflow=\"visible\" id=\"glyph-1485548607131393-0-3\">\n",
       "<path style=\"stroke:none;\" d=\"M 4.140625 -1.1875 C 4.140625 -1.28125 4.03125 -1.28125 4 -1.28125 C 3.921875 -1.28125 3.890625 -1.25 3.875 -1.1875 C 3.59375 -0.265625 2.9375 -0.140625 2.578125 -0.140625 C 2.046875 -0.140625 1.171875 -0.5625 1.171875 -2.171875 C 1.171875 -3.796875 1.984375 -4.21875 2.515625 -4.21875 C 2.609375 -4.21875 3.234375 -4.203125 3.578125 -3.84375 C 3.171875 -3.8125 3.109375 -3.515625 3.109375 -3.390625 C 3.109375 -3.125 3.296875 -2.9375 3.5625 -2.9375 C 3.828125 -2.9375 4.03125 -3.09375 4.03125 -3.40625 C 4.03125 -4.078125 3.265625 -4.46875 2.5 -4.46875 C 1.25 -4.46875 0.34375 -3.390625 0.34375 -2.15625 C 0.34375 -0.875 1.328125 0.109375 2.484375 0.109375 C 3.8125 0.109375 4.140625 -1.09375 4.140625 -1.1875 Z M 4.140625 -1.1875 \"/>\n",
       "</symbol>\n",
       "</g>\n",
       "</defs>\n",
       "<g id=\"surface1\">\n",
       "<path style=\"fill:none;stroke-width:0.3985;stroke-linecap:butt;stroke-linejoin:miter;stroke:rgb(0%,0%,0%);stroke-opacity:1;stroke-miterlimit:10;\" d=\"M -0.00015625 -5.807062 L -0.00015625 -20.857844 \" transform=\"matrix(1,0,0,-1,6.09,5.607)\"/>\n",
       "<path style=\"fill:none;stroke-width:0.31879;stroke-linecap:round;stroke-linejoin:round;stroke:rgb(0%,0%,0%);stroke-opacity:1;stroke-miterlimit:10;\" d=\"M -1.194299 1.593594 C -1.096643 0.995938 0.00101375 0.101406 0.297889 -0.00015625 C 0.00101375 -0.0978125 -1.096643 -0.99625 -1.194299 -1.593906 \" transform=\"matrix(0,1,1,0,6.09,26.46383)\"/>\n",
       "<path style=\"fill:none;stroke-width:0.3985;stroke-linecap:butt;stroke-linejoin:miter;stroke:rgb(0%,0%,0%);stroke-opacity:1;stroke-miterlimit:10;\" d=\"M -0.00015625 -35.377375 L -0.00015625 -50.428156 \" transform=\"matrix(1,0,0,-1,6.09,5.607)\"/>\n",
       "<path style=\"fill:none;stroke-width:0.31879;stroke-linecap:round;stroke-linejoin:round;stroke:rgb(0%,0%,0%);stroke-opacity:1;stroke-miterlimit:10;\" d=\"M -1.196216 1.593594 C -1.094654 0.995938 -0.00090375 0.101406 0.299877 -0.00015625 C -0.00090375 -0.0978125 -1.094654 -0.99625 -1.196216 -1.593906 \" transform=\"matrix(0,1,1,0,6.09,56.03606)\"/>\n",
       "<g style=\"fill:rgb(0%,0%,0%);fill-opacity:1;\">\n",
       "  <use xlink:href=\"#glyph-1485548607131393-0-1\" x=\"3.599\" y=\"7.784\"/>\n",
       "</g>\n",
       "<g style=\"fill:rgb(0%,0%,0%);fill-opacity:1;\">\n",
       "  <use xlink:href=\"#glyph-1485548607131393-0-2\" x=\"3.321\" y=\"37.356\"/>\n",
       "</g>\n",
       "<g style=\"fill:rgb(0%,0%,0%);fill-opacity:1;\">\n",
       "  <use xlink:href=\"#glyph-1485548607131393-0-3\" x=\"3.878\" y=\"64.477\"/>\n",
       "</g>\n",
       "</g>\n",
       "</svg>\n",
       "\n"
      ],
      "text/plain": [
       "BayesNets.MRF{BayesNets.Factor}({3, 2} undirected graph,BayesNets.Factor[4 instantiations:\n",
       "  a (2)\n",
       "  b (2),4 instantiations:\n",
       "  b (2)\n",
       "  c (2)],Symbol[:a,:b,:c],Dict(:c=>3,:a=>1,:b=>2),Dict{Symbol,Array{Int64,N}}(Pair{Symbol,Array{Int64,N}}(:c,[2]),Pair{Symbol,Array{Int64,N}}(:a,[1]),Pair{Symbol,Array{Int64,N}}(:b,[1,2])))"
      ]
     },
     "execution_count": 13,
     "metadata": {},
     "output_type": "execute_result"
    }
   ],
   "source": [
    "f = Factor([:a, :b], [2, 2])\n",
    "g = Factor([:b, :c], [2, 2])\n",
    "factors = [f, g]\n",
    "mrf = MRF(factors)"
   ]
  },
  {
   "cell_type": "markdown",
   "metadata": {},
   "source": [
    "Note - this is indeed an UG graph. Looks like TikzGraphs doesn't support undirected graphs, but looks like an easy fix"
   ]
  },
  {
   "cell_type": "markdown",
   "metadata": {},
   "source": [
    "## Sampling\n",
    "Sampling in MRFs is done through *Gibbs Sampling*. We will use as a basic example an Ising model. \n",
    "\n",
    "For this we need to build a 'grid' graph. We then use the graph to create the list of associated factors. Each node is has two possible values, `1` or `2`. The factors are pairwise and reflect that two neighboring nodes have a tendency to align.\n",
    "\n",
    "### Ising Model"
   ]
  },
  {
   "cell_type": "code",
   "execution_count": 2,
   "metadata": {
    "collapsed": false
   },
   "outputs": [
    {
     "data": {
      "text/plain": [
       "Plots.GRBackend()"
      ]
     },
     "execution_count": 2,
     "metadata": {},
     "output_type": "execute_result"
    }
   ],
   "source": [
    "using LightGraphs # we need this to build our factor list.\n",
    "using Plots\n",
    "gr(size = (300,300), scale = 1)"
   ]
  },
  {
   "cell_type": "markdown",
   "metadata": {},
   "source": [
    "Building the Grid:"
   ]
  },
  {
   "cell_type": "code",
   "execution_count": 4,
   "metadata": {
    "collapsed": false
   },
   "outputs": [
    {
     "data": {
      "text/plain": [
       "{1024, 1984} undirected graph"
      ]
     },
     "execution_count": 4,
     "metadata": {},
     "output_type": "execute_result"
    }
   ],
   "source": [
    "n = 32\n",
    "grid = Grid([n,n])"
   ]
  },
  {
   "cell_type": "code",
   "execution_count": 6,
   "metadata": {
    "collapsed": false
   },
   "outputs": [],
   "source": [
    "interact = .7 # this is our interaction energy\n",
    "\n",
    "# we then define the factor matrix:\n",
    "interact_array = [exp(interact) exp(-interact);\n",
    "                  exp(-interact) exp(interact)]\n",
    "\n",
    "factors = Array{Factor}(length(edges(grid)))\n",
    "\n",
    "# and create pairwise factors for neighboring nodes on the grids\n",
    "for (i,e) in enumerate(edges(grid))\n",
    "    factors[i] = Factor([Symbol(e[1]), Symbol(e[2])], interact_array)\n",
    "end\n",
    "\n",
    "mrf = MRF(factors);\n"
   ]
  },
  {
   "cell_type": "code",
   "execution_count": 14,
   "metadata": {
    "collapsed": false
   },
   "outputs": [
    {
     "data": {
      "text/plain": [
       "BayesNets.MRFGibbsSampler(Dict{Symbol,Any}(),0,0,Nullable{Dict{Symbol,Any}}())"
      ]
     },
     "execution_count": 14,
     "metadata": {},
     "output_type": "execute_result"
    }
   ],
   "source": [
    "# creating the sampler object - right now the Givvs sampler is the only one available\n",
    "sampler = MRFGibbsSampler(Assignment(), burn_in = 0)"
   ]
  },
  {
   "cell_type": "code",
   "execution_count": 8,
   "metadata": {
    "collapsed": false
   },
   "outputs": [
    {
     "name": "stdout",
     "output_type": "stream",
     "text": [
      " 57.087385 seconds (138.45 M allocations: 24.755 GB, 7.93% gc time)\n"
     ]
    },
    {
     "name": "stderr",
     "output_type": "stream",
     "text": [
      "WARNING: imported binding for df overwritten in module Main\n"
     ]
    }
   ],
   "source": [
    "# the running the sampler - this can take a while\n",
    "iters = 200\n",
    "@time df = rand(mrf, sampler, iters);"
   ]
  },
  {
   "cell_type": "code",
   "execution_count": 13,
   "metadata": {
    "collapsed": false,
    "scrolled": true
   },
   "outputs": [
    {
     "name": "stderr",
     "output_type": "stream",
     "text": [
      "\u001b[1m\u001b[34mINFO: Saved animation to /Users/henripal/.julia/v0.5/BayesNets/doc/tmp.gif\n",
      "\u001b[0m"
     ]
    },
    {
     "data": {
      "text/html": [
       "<img src=\"tmp.gif?0.6780318380687633>\" />"
      ],
      "text/plain": [
       "Plots.AnimatedGif(\"/Users/henripal/.julia/v0.5/BayesNets/doc/tmp.gif\")"
      ]
     },
     "execution_count": 13,
     "metadata": {},
     "output_type": "execute_result"
    }
   ],
   "source": [
    "# some code to look at our Ising Model\n",
    "orderednames = [Symbol(i) for i in 1:length(vertices(grid))]\n",
    "a = reshape(convert(Array{Float64},df[1,orderednames]), (n, n) )\n",
    "plt = heatmap(a, axis = nothing)\n",
    "\n",
    "@gif for i=1:iters\n",
    "    a = reshape(convert(Array{Float64}, df[i,orderednames]), (n, n))\n",
    "    heatmap!(a, axis = nothing)\n",
    "end"
   ]
  },
  {
   "cell_type": "markdown",
   "metadata": {
    "collapsed": true
   },
   "source": [
    "### Potts Model\n",
    "Since this framework is flexible in terms of the interactions, it is easy to build more complicated models using the same procedure. For example we can build a 4 color Potts model on a grid in the same manner:"
   ]
  },
  {
   "cell_type": "code",
   "execution_count": 19,
   "metadata": {
    "collapsed": true
   },
   "outputs": [],
   "source": [
    "interact = .7 # this is our interaction energy\n",
    "\n",
    "# This is the only difference from our previous example ###\n",
    "interact_array = [exp(interact) exp(-interact) exp(-interact) exp(-interact);\n",
    "                  exp(-interact) exp(interact) exp(-interact) exp(-interact);\n",
    "                  exp(-interact) exp(-interact) exp(interact) exp(-interact);\n",
    "                  exp(-interact) exp(-interact) exp(-interact) exp(interact)]\n",
    "    \n",
    "factors = Array{Factor}(length(edges(grid)))\n",
    "\n",
    "# and create pairwise factors for neighboring nodes on the grids\n",
    "for (i,e) in enumerate(edges(grid))\n",
    "    factors[i] = Factor([Symbol(e[1]), Symbol(e[2])], interact_array)\n",
    "end\n",
    "\n",
    "mrf = MRF(factors);"
   ]
  },
  {
   "cell_type": "code",
   "execution_count": 20,
   "metadata": {
    "collapsed": false
   },
   "outputs": [
    {
     "name": "stdout",
     "output_type": "stream",
     "text": [
      " 59.825705 seconds (136.40 M allocations: 24.707 GB, 9.63% gc time)\n"
     ]
    }
   ],
   "source": [
    "# the running the sampler - this can take a while\n",
    "iters = 200\n",
    "@time df = rand(mrf, sampler, iters);"
   ]
  },
  {
   "cell_type": "code",
   "execution_count": 21,
   "metadata": {
    "collapsed": false,
    "scrolled": true
   },
   "outputs": [
    {
     "name": "stderr",
     "output_type": "stream",
     "text": [
      "\u001b[1m\u001b[34mINFO: Saved animation to /Users/henripal/.julia/v0.5/BayesNets/doc/tmp.gif\n",
      "\u001b[0m"
     ]
    },
    {
     "data": {
      "text/html": [
       "<img src=\"tmp.gif?0.21512183138020258>\" />"
      ],
      "text/plain": [
       "Plots.AnimatedGif(\"/Users/henripal/.julia/v0.5/BayesNets/doc/tmp.gif\")"
      ]
     },
     "execution_count": 21,
     "metadata": {},
     "output_type": "execute_result"
    }
   ],
   "source": [
    "# some code to look at our Potts Model\n",
    "orderednames = [Symbol(i) for i in 1:length(vertices(grid))]\n",
    "a = reshape(convert(Array{Float64},df[1,orderednames]), (n, n) )\n",
    "plt = heatmap(a, axis = nothing)\n",
    "\n",
    "@gif for i=1:iters\n",
    "    a = reshape(convert(Array{Float64}, df[i,orderednames]), (n, n))\n",
    "    heatmap!(a, axis = nothing)\n",
    "end"
   ]
  },
  {
   "cell_type": "markdown",
   "metadata": {},
   "source": [
    "## Inference\n",
    "Here we use the MRF to denoise a black and white image - the idea is that the MRF is still a grid, and that the interactions between neighbors still encourages local coherence, but now we connect an extra node to each node on the grid, corresponding to the value of the pixel. The ground state will then correspond to an image with \n",
    "* local coherence\n",
    "* close to the target image"
   ]
  },
  {
   "cell_type": "code",
   "execution_count": 10,
   "metadata": {
    "collapsed": false
   },
   "outputs": [],
   "source": [
    "using Images, TestImages, Distributions, LightGraphs, BayesNets"
   ]
  },
  {
   "cell_type": "code",
   "execution_count": 2,
   "metadata": {
    "collapsed": false
   },
   "outputs": [
    {
     "data": {
      "image/png": "[encoded data removed]",
      "text/plain": [
       "Gray Images.Image with:\n",
       "  data: 65×65 Array{Float64,2}\n",
       "  properties:\n",
       "    colorspace: Gray\n",
       "    spatialorder:  x y"
      ]
     },
     "execution_count": 2,
     "metadata": {},
     "output_type": "execute_result"
    }
   ],
   "source": [
    "n_levels = 20\n",
    "img = restrict(restrict(testimage(\"lena_gray_256\")))\n",
    "im_size = size(img)[1]\n",
    "img_data = convert(Array{Int}, round.(n_levels.*Images.data(img)))\n",
    "grayim(img_data/n_levels)"
   ]
  },
  {
   "cell_type": "code",
   "execution_count": 3,
   "metadata": {
    "collapsed": false
   },
   "outputs": [
    {
     "data": {
      "image/png": "[encoded data removed]",
      "text/plain": [
       "Gray Images.Image with:\n",
       "  data: 65×65 Array{Float64,2}\n",
       "  properties:\n",
       "    colorspace: Gray\n",
       "    spatialorder:  x y"
      ]
     },
     "execution_count": 3,
     "metadata": {},
     "output_type": "execute_result"
    }
   ],
   "source": [
    "noisy_img_data = img_data  .*rand(Bernoulli(.94),im_size,im_size)\n",
    "grayim(noisy_img_data/n_levels)"
   ]
  },
  {
   "cell_type": "code",
   "execution_count": 273,
   "metadata": {
    "collapsed": false
   },
   "outputs": [],
   "source": [
    "interact_neighbor = .6 # this is our interaction energy\n",
    "interact_data = .9999999999\n",
    "\n",
    "# creating the grid copied on image size\n",
    "new_grid = Grid([im_size,im_size])\n",
    "    \n",
    "interact_array = fill(exp(-interact_neighbor), n_levels, n_levels) + (exp(interact_neighbor) -exp(-interact_neighbor))* eye(n_levels)\n",
    "interact_data = fill(exp(-interact_data), n_levels, n_levels) + (exp(interact_data) -exp(-interact_data))* eye(n_levels);\n"
   ]
  },
  {
   "cell_type": "code",
   "execution_count": 348,
   "metadata": {
    "collapsed": false
   },
   "outputs": [
    {
     "data": {
      "text/plain": [
       "20×20 Array{Float64,2}:\n",
       " 1.0          0.846482     0.513417     …  3.53263e-24  7.41223e-27\n",
       " 0.846482     1.0          0.846482        1.20638e-21  3.53263e-24\n",
       " 0.513417     0.846482     1.0             2.9519e-19   1.20638e-21\n",
       " 0.22313      0.513417     0.846482        5.17556e-17  2.9519e-19 \n",
       " 0.0694835    0.22313      0.513417        6.502e-15    5.17556e-17\n",
       " 0.0155039    0.0694835    0.22313      …  5.85291e-13  6.502e-15  \n",
       " 0.00247875   0.0155039    0.0694835       3.77513e-11  5.85291e-13\n",
       " 0.000283963  0.00247875   0.0155039       1.74473e-9   3.77513e-11\n",
       " 2.33091e-5   0.000283963  0.00247875      5.77775e-8   1.74473e-9 \n",
       " 1.37096e-6   2.33091e-5   0.000283963     1.37096e-6   5.77775e-8 \n",
       " 5.77775e-8   1.37096e-6   2.33091e-5   …  2.33091e-5   1.37096e-6 \n",
       " 1.74473e-9   5.77775e-8   1.37096e-6      0.000283963  2.33091e-5 \n",
       " 3.77513e-11  1.74473e-9   5.77775e-8      0.00247875   0.000283963\n",
       " 5.85291e-13  3.77513e-11  1.74473e-9      0.0155039    0.00247875 \n",
       " 6.502e-15    5.85291e-13  3.77513e-11     0.0694835    0.0155039  \n",
       " 5.17556e-17  6.502e-15    5.85291e-13  …  0.22313      0.0694835  \n",
       " 2.9519e-19   5.17556e-17  6.502e-15       0.513417     0.22313    \n",
       " 1.20638e-21  2.9519e-19   5.17556e-17     0.846482     0.513417   \n",
       " 3.53263e-24  1.20638e-21  2.9519e-19      1.0          0.846482   \n",
       " 7.41223e-27  3.53263e-24  1.20638e-21     0.846482     1.0        "
      ]
     },
     "execution_count": 348,
     "metadata": {},
     "output_type": "execute_result"
    }
   ],
   "source": [
    "temp1 = 4 \n",
    "mult = 1.5\n",
    "temp2 = mult*temp1\n",
    "interact_array = [exp(-(i-j)^2/temp1) for i in 1:n_levels, j in 1:n_levels]\n",
    "interact_data = [exp(-(i-j)^2/temp2) for i in 1:n_levels, j in 1:n_levels]"
   ]
  },
  {
   "cell_type": "code",
   "execution_count": 349,
   "metadata": {
    "collapsed": false
   },
   "outputs": [
    {
     "data": {
      "text/plain": [
       "true"
      ]
     },
     "execution_count": 349,
     "metadata": {},
     "output_type": "execute_result"
    }
   ],
   "source": [
    "add_vertices!(new_grid, im_size*im_size)"
   ]
  },
  {
   "cell_type": "code",
   "execution_count": 350,
   "metadata": {
    "collapsed": false
   },
   "outputs": [],
   "source": [
    "for i in 1:(im_size*im_size)\n",
    "    add_edge!(new_grid, i, i+im_size*im_size)\n",
    "end"
   ]
  },
  {
   "cell_type": "code",
   "execution_count": 351,
   "metadata": {
    "collapsed": false
   },
   "outputs": [],
   "source": [
    "factors = Array{Factor}(length(edges(new_grid)))\n",
    "\n",
    "# and create pairwise factors for neighboring nodes on the grids\n",
    "for (i,e) in enumerate(edges(new_grid))\n",
    "    if (e[1]>=im_size*im_size) || (e[2]>=im_size*im_size)\n",
    "        factors[i] = Factor([Symbol(e[1]), Symbol(e[2])], interact_data)\n",
    "    else\n",
    "        factors[i] = Factor([Symbol(e[1]), Symbol(e[2])], interact_array)\n",
    "    end\n",
    "end\n",
    "\n",
    "mrf = MRF(factors);"
   ]
  },
  {
   "cell_type": "code",
   "execution_count": 352,
   "metadata": {
    "collapsed": false
   },
   "outputs": [
    {
     "data": {
      "text/plain": [
       "BayesNets.MRFGibbsSampler(Dict{Symbol,Any}(),0,0,Nullable{Dict{Symbol,Any}}())"
      ]
     },
     "execution_count": 352,
     "metadata": {},
     "output_type": "execute_result"
    }
   ],
   "source": [
    "# creating the sampler object - right now the Givvs sampler is the only one available\n",
    "img_nodes = [Symbol(i) for i in (im_size*im_size+1):(2*im_size *im_size)]\n",
    "img_values = noisy_img_data[:]+1\n",
    "assgn = Assignment(zip(img_nodes, img_values))\n",
    "sampler = MRFGibbsSampler(burn_in = 0)"
   ]
  },
  {
   "cell_type": "code",
   "execution_count": 353,
   "metadata": {
    "collapsed": false
   },
   "outputs": [],
   "source": [
    "new_facs = evidence_reduce(mrf, assgn);"
   ]
  },
  {
   "cell_type": "code",
   "execution_count": 354,
   "metadata": {
    "collapsed": false
   },
   "outputs": [],
   "source": [
    "mrf2 = MRF(new_facs);"
   ]
  },
  {
   "cell_type": "code",
   "execution_count": 355,
   "metadata": {
    "collapsed": false
   },
   "outputs": [
    {
     "name": "stdout",
     "output_type": "stream",
     "text": [
      "149.312261 seconds (188.00 M allocations: 70.797 GB, 13.39% gc time)\n"
     ]
    }
   ],
   "source": [
    "iters = 50 \n",
    "@time df = rand(mrf2, sampler, iters);"
   ]
  },
  {
   "cell_type": "code",
   "execution_count": 356,
   "metadata": {
    "collapsed": false
   },
   "outputs": [
    {
     "data": {
      "image/png": "[encoded data removed]",
      "text/plain": [
       "Gray Images.Image with:\n",
       "  data: 65×65 Array{Float64,2}\n",
       "  properties:\n",
       "    colorspace: Gray\n",
       "    spatialorder:  x y"
      ]
     },
     "execution_count": 356,
     "metadata": {},
     "output_type": "execute_result"
    }
   ],
   "source": [
    "# some code to look at our Potts Model\n",
    "orderednames = [Symbol(i) for i in 1:(im_size*im_size)]\n",
    "a = reshape(convert(Array{Float64},df[1,orderednames]), (im_size, im_size) )\n",
    "rebuiltim = grayim((a-1)/n_levels)"
   ]
  },
  {
   "cell_type": "code",
   "execution_count": 357,
   "metadata": {
    "collapsed": false
   },
   "outputs": [
    {
     "data": {
      "image/png": "[encoded data removed]",
      "text/plain": [
       "Gray Images.Image with:\n",
       "  data: 65×65 Array{Float64,2}\n",
       "  properties:\n",
       "    colorspace: Gray\n",
       "    spatialorder:  x y"
      ]
     },
     "metadata": {},
     "output_type": "display_data"
    }
   ],
   "source": [
    "\n",
    "for i in 1:iters\n",
    "    a = reshape(convert(Array{Float64},df[i,orderednames]), (im_size, im_size) )\n",
    "    display(grayim((a-1)/n_levels))\n",
    "    IJulia.clear_output(true)\n",
    "end"
   ]
  },
  {
   "cell_type": "code",
   "execution_count": null,
   "metadata": {
    "collapsed": true
   },
   "outputs": [],
   "source": []
  },
  {
   "cell_type": "code",
   "execution_count": null,
   "metadata": {
    "collapsed": true
   },
   "outputs": [],
   "source": []
  }
 ],
 "metadata": {
  "anaconda-cloud": {},
  "kernelspec": {
   "display_name": "Julia 0.5.0",
   "language": "julia",
   "name": "julia-0.5"
  },
  "language_info": {
   "file_extension": ".jl",
   "mimetype": "application/julia",
   "name": "julia",
   "version": "0.5.0"
  }
 },
 "nbformat": 4,
 "nbformat_minor": 0
}
