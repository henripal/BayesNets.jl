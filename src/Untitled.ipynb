{
 "cells": [
  {
   "cell_type": "code",
   "execution_count": null,
   "metadata": {
    "collapsed": false
   },
   "outputs": [],
   "source": [
    "using BayesNets"
   ]
  },
  {
   "cell_type": "code",
   "execution_count": null,
   "metadata": {
    "collapsed": false
   },
   "outputs": [],
   "source": [
    "f = Factor([:a, :b], [2, 2])\n",
    "g = Factor([:b, :c], [2, 2])\n",
    "factors = [f, g]\n",
    "mrf = MRF(factors)"
   ]
  },
  {
   "cell_type": "code",
   "execution_count": null,
   "metadata": {
    "collapsed": false
   },
   "outputs": [],
   "source": [
    "names(mrf)"
   ]
  },
  {
   "cell_type": "code",
   "execution_count": null,
   "metadata": {
    "collapsed": false
   },
   "outputs": [],
   "source": [
    "mrf.ug"
   ]
  },
  {
   "cell_type": "code",
   "execution_count": null,
   "metadata": {
    "collapsed": false
   },
   "outputs": [],
   "source": [
    "fieldnames(mrf.ug)"
   ]
  },
  {
   "cell_type": "code",
   "execution_count": null,
   "metadata": {
    "collapsed": false
   },
   "outputs": [],
   "source": [
    "mrf.ug.vertices"
   ]
  },
  {
   "cell_type": "code",
   "execution_count": null,
   "metadata": {
    "collapsed": false
   },
   "outputs": [],
   "source": [
    "neighbors(mrf,NodeName(:b))"
   ]
  },
  {
   "cell_type": "code",
   "execution_count": null,
   "metadata": {
    "collapsed": false
   },
   "outputs": [],
   "source": [
    "get(mrf, 1)"
   ]
  },
  {
   "cell_type": "code",
   "execution_count": null,
   "metadata": {
    "collapsed": false
   },
   "outputs": [],
   "source": [
    "markov_blanket(mrf, NodeName(:a))"
   ]
  },
  {
   "cell_type": "code",
   "execution_count": null,
   "metadata": {
    "collapsed": false
   },
   "outputs": [],
   "source": [
    "has_edge(mrf, NodeName(:a), NodeName(:b))"
   ]
  },
  {
   "cell_type": "code",
   "execution_count": null,
   "metadata": {
    "collapsed": false
   },
   "outputs": [],
   "source": [
    "g2 = copy(mrf.ug)"
   ]
  },
  {
   "cell_type": "code",
   "execution_count": null,
   "metadata": {
    "collapsed": false
   },
   "outputs": [],
   "source": [
    "mrf.name_to_index[:a]"
   ]
  },
  {
   "cell_type": "code",
   "execution_count": null,
   "metadata": {
    "collapsed": false
   },
   "outputs": [],
   "source": [
    "neighbors(g2, 2)"
   ]
  },
  {
   "cell_type": "code",
   "execution_count": null,
   "metadata": {
    "collapsed": false
   },
   "outputs": [],
   "source": [
    "using LightGraphs\n",
    "rem_edge!(g2, 2, 3)"
   ]
  },
  {
   "cell_type": "code",
   "execution_count": null,
   "metadata": {
    "collapsed": false
   },
   "outputs": [],
   "source": [
    "connected_components(g2)"
   ]
  },
  {
   "cell_type": "code",
   "execution_count": null,
   "metadata": {
    "collapsed": false
   },
   "outputs": [],
   "source": [
    "array1 = [1, 2 ,3 ,4]"
   ]
  },
  {
   "cell_type": "code",
   "execution_count": null,
   "metadata": {
    "collapsed": false
   },
   "outputs": [],
   "source": [
    "array2 = [4, 5, 1 , 919]"
   ]
  },
  {
   "cell_type": "code",
   "execution_count": null,
   "metadata": {
    "collapsed": false
   },
   "outputs": [],
   "source": [
    "intersect(array1, array2)"
   ]
  },
  {
   "cell_type": "code",
   "execution_count": null,
   "metadata": {
    "collapsed": false
   },
   "outputs": [],
   "source": [
    "if intersect(array1, array2)\n",
    "    print(\"hi\")\n",
    "end"
   ]
  },
  {
   "cell_type": "code",
   "execution_count": null,
   "metadata": {
    "collapsed": false
   },
   "outputs": [],
   "source": [
    "not isempty(array1)"
   ]
  },
  {
   "cell_type": "code",
   "execution_count": null,
   "metadata": {
    "collapsed": false
   },
   "outputs": [],
   "source": [
    "not(isempty([]))"
   ]
  },
  {
   "cell_type": "code",
   "execution_count": null,
   "metadata": {
    "collapsed": false
   },
   "outputs": [],
   "source": [
    "f = Factor([:a, :b], [2, 2])\n",
    "g = Factor([:b, :c], [2, 2])\n",
    "h = Factor([:c, :f], [2, 2])\n",
    "i = Factor([:a, :d], [2, 2])\n",
    "j = Factor([:d, :e], [2, 2])\n",
    "k = Factor([:d, :g], [2, 2])\n",
    "l = Factor([:b, :e], [2, 2])\n",
    "m = Factor([:f, :e], [2, 2])\n",
    "n = Factor([:h, :e], [2, 2])\n",
    "o = Factor([:g, :h], [2, 2])\n",
    "p = Factor([:i, :h], [2, 2])\n",
    "q = Factor([:i, :f], [2, 2])\n",
    "\n",
    "\n",
    "factors = [f, g, h, i, j, k,l, m,n, o, p, q]\n",
    "mrf = MRF(factors)"
   ]
  },
  {
   "cell_type": "code",
   "execution_count": null,
   "metadata": {
    "collapsed": false
   },
   "outputs": [],
   "source": [
    "using Plots\n",
    "using PlotRecipes"
   ]
  },
  {
   "cell_type": "code",
   "execution_count": null,
   "metadata": {
    "collapsed": false
   },
   "outputs": [],
   "source": [
    "graphplot(mrf.ug)"
   ]
  },
  {
   "cell_type": "code",
   "execution_count": 1,
   "metadata": {
    "collapsed": false
   },
   "outputs": [
    {
     "name": "stderr",
     "output_type": "stream",
     "text": [
      "\u001b[1m\u001b[34mINFO: Recompiling stale cache file /Users/henripal/.julia/lib/v0.5/BayesNets.ji for module BayesNets.\n",
      "\u001b[0m"
     ]
    }
   ],
   "source": [
    "using BayesNets\n",
    "using LightGraphs"
   ]
  },
  {
   "cell_type": "code",
   "execution_count": 132,
   "metadata": {
    "collapsed": false
   },
   "outputs": [
    {
     "data": {
      "text/plain": [
       "{64, 112} undirected graph"
      ]
     },
     "execution_count": 132,
     "metadata": {},
     "output_type": "execute_result"
    }
   ],
   "source": [
    "size = 8\n",
    "grid = Grid([size,size])"
   ]
  },
  {
   "cell_type": "code",
   "execution_count": 133,
   "metadata": {
    "collapsed": false
   },
   "outputs": [
    {
     "data": {
      "text/plain": [
       "BayesNets.MRF{BayesNets.Factor}({64, 112} undirected graph,BayesNets.Factor[4 instantiations:\n",
       "  1 (2)\n",
       "  2 (2),4 instantiations:\n",
       "  1 (2)\n",
       "  9 (2),4 instantiations:\n",
       "  2 (2)\n",
       "  3 (2),4 instantiations:\n",
       "  2 (2)\n",
       "  10 (2),4 instantiations:\n",
       "  3 (2)\n",
       "  4 (2),4 instantiations:\n",
       "  3 (2)\n",
       "  11 (2),4 instantiations:\n",
       "  4 (2)\n",
       "  5 (2),4 instantiations:\n",
       "  4 (2)\n",
       "  12 (2),4 instantiations:\n",
       "  5 (2)\n",
       "  6 (2),4 instantiations:\n",
       "  5 (2)\n",
       "  13 (2)  …  4 instantiations:\n",
       "  55 (2)\n",
       "  56 (2),4 instantiations:\n",
       "  55 (2)\n",
       "  63 (2),4 instantiations:\n",
       "  56 (2)\n",
       "  64 (2),4 instantiations:\n",
       "  57 (2)\n",
       "  58 (2),4 instantiations:\n",
       "  58 (2)\n",
       "  59 (2),4 instantiations:\n",
       "  59 (2)\n",
       "  60 (2),4 instantiations:\n",
       "  60 (2)\n",
       "  61 (2),4 instantiations:\n",
       "  61 (2)\n",
       "  62 (2),4 instantiations:\n",
       "  62 (2)\n",
       "  63 (2),4 instantiations:\n",
       "  63 (2)\n",
       "  64 (2)],Symbol[Symbol(\"1\"),Symbol(\"2\"),Symbol(\"9\"),Symbol(\"3\"),Symbol(\"10\"),Symbol(\"4\"),Symbol(\"11\"),Symbol(\"5\"),Symbol(\"12\"),Symbol(\"6\")  …  Symbol(\"55\"),Symbol(\"56\"),Symbol(\"57\"),Symbol(\"58\"),Symbol(\"59\"),Symbol(\"60\"),Symbol(\"61\"),Symbol(\"62\"),Symbol(\"63\"),Symbol(\"64\")],Dict(Symbol(\"5\")=>8,Symbol(\"19\")=>19,Symbol(\"28\")=>28,Symbol(\"24\")=>24,Symbol(\"22\")=>22,Symbol(\"25\")=>25,Symbol(\"45\")=>45,Symbol(\"4\")=>6,Symbol(\"30\")=>30,Symbol(\"7\")=>12…))"
      ]
     },
     "execution_count": 133,
     "metadata": {},
     "output_type": "execute_result"
    }
   ],
   "source": [
    "interact = 2.0\n",
    "interact_array = [exp(interact) exp(-interact) ; exp(-interact) exp(interact)]\n",
    "\n",
    "factors = Array{Factor}(length(edges(grid)))\n",
    "\n",
    "for (i,e) in enumerate(edges(grid))\n",
    "    factors[i] = Factor([Symbol(e[1]), Symbol(e[2])], interact_array)\n",
    "end\n",
    "\n",
    "mrf = MRF(factors)"
   ]
  },
  {
   "cell_type": "code",
   "execution_count": 124,
   "metadata": {
    "collapsed": false
   },
   "outputs": [
    {
     "name": "stdout",
     "output_type": "stream",
     "text": [
      " 54.670800 seconds (76.69 M allocations: 3.710 GB, 1.83% gc time)\n"
     ]
    },
    {
     "data": {
      "text/plain": [
       "Dict{Symbol,Any} with 16 entries:\n",
       "  Symbol(\"13\") => 1\n",
       "  Symbol(\"9\")  => 1\n",
       "  Symbol(\"5\")  => 1\n",
       "  Symbol(\"12\") => 1\n",
       "  Symbol(\"14\") => 1\n",
       "  Symbol(\"2\")  => 1\n",
       "  Symbol(\"16\") => 1\n",
       "  Symbol(\"1\")  => 1\n",
       "  Symbol(\"6\")  => 1\n",
       "  Symbol(\"4\")  => 1\n",
       "  Symbol(\"7\")  => 1\n",
       "  Symbol(\"15\") => 1\n",
       "  Symbol(\"8\")  => 1\n",
       "  Symbol(\"11\") => 1\n",
       "  Symbol(\"3\")  => 1\n",
       "  Symbol(\"10\") => 1"
      ]
     },
     "execution_count": 124,
     "metadata": {},
     "output_type": "execute_result"
    }
   ],
   "source": [
    "@time rand(reduce(*, [f for f in factors]))"
   ]
  },
  {
   "cell_type": "code",
   "execution_count": 134,
   "metadata": {
    "collapsed": false
   },
   "outputs": [
    {
     "data": {
      "text/plain": [
       "Dict{Symbol,Any} with 64 entries:\n",
       "  Symbol(\"5\")  => 1\n",
       "  Symbol(\"19\") => 2\n",
       "  Symbol(\"28\") => 2\n",
       "  Symbol(\"24\") => 2\n",
       "  Symbol(\"22\") => 2\n",
       "  Symbol(\"25\") => 1\n",
       "  Symbol(\"45\") => 1\n",
       "  Symbol(\"4\")  => 1\n",
       "  Symbol(\"30\") => 2\n",
       "  Symbol(\"7\")  => 2\n",
       "  Symbol(\"34\") => 2\n",
       "  Symbol(\"11\") => 2\n",
       "  Symbol(\"40\") => 1\n",
       "  Symbol(\"31\") => 2\n",
       "  Symbol(\"43\") => 2\n",
       "  Symbol(\"13\") => 1\n",
       "  Symbol(\"49\") => 1\n",
       "  Symbol(\"50\") => 1\n",
       "  Symbol(\"12\") => 1\n",
       "  Symbol(\"32\") => 2\n",
       "  Symbol(\"2\")  => 1\n",
       "  Symbol(\"1\")  => 2\n",
       "  Symbol(\"52\") => 2\n",
       "  Symbol(\"54\") => 1\n",
       "  Symbol(\"6\")  => 2\n",
       "  ⋮            => ⋮"
      ]
     },
     "execution_count": 134,
     "metadata": {},
     "output_type": "execute_result"
    }
   ],
   "source": [
    "init = Assignment(zip([Symbol(v) for v in mrf.ug.vertices],[rand(Bernoulli(.5))+1 for v in mrf.ug.vertices]))"
   ]
  },
  {
   "cell_type": "code",
   "execution_count": 143,
   "metadata": {
    "collapsed": false
   },
   "outputs": [],
   "source": [
    "for v in vertices(mrf.ug)\n",
    "    other_assg = filter((k, val) -> k != Symbol(v), init)\n",
    "    new_f = reduce(*, [f[other_assg] for f in factors])\n",
    "    init = merge(init, rand(new_f))\n",
    "end"
   ]
  },
  {
   "cell_type": "code",
   "execution_count": 144,
   "metadata": {
    "collapsed": false
   },
   "outputs": [
    {
     "data": {
      "text/plain": [
       "Dict{Symbol,Any} with 64 entries:\n",
       "  Symbol(\"5\")  => 2\n",
       "  Symbol(\"19\") => 2\n",
       "  Symbol(\"28\") => 2\n",
       "  Symbol(\"24\") => 2\n",
       "  Symbol(\"22\") => 2\n",
       "  Symbol(\"25\") => 2\n",
       "  Symbol(\"45\") => 2\n",
       "  Symbol(\"4\")  => 2\n",
       "  Symbol(\"30\") => 2\n",
       "  Symbol(\"7\")  => 2\n",
       "  Symbol(\"34\") => 2\n",
       "  Symbol(\"11\") => 2\n",
       "  Symbol(\"40\") => 2\n",
       "  Symbol(\"31\") => 2\n",
       "  Symbol(\"43\") => 2\n",
       "  Symbol(\"13\") => 2\n",
       "  Symbol(\"49\") => 2\n",
       "  Symbol(\"50\") => 2\n",
       "  Symbol(\"12\") => 2\n",
       "  Symbol(\"32\") => 2\n",
       "  Symbol(\"2\")  => 2\n",
       "  Symbol(\"1\")  => 2\n",
       "  Symbol(\"52\") => 2\n",
       "  Symbol(\"54\") => 2\n",
       "  Symbol(\"6\")  => 2\n",
       "  ⋮            => ⋮"
      ]
     },
     "execution_count": 144,
     "metadata": {},
     "output_type": "execute_result"
    }
   ],
   "source": [
    "init"
   ]
  },
  {
   "cell_type": "code",
   "execution_count": 109,
   "metadata": {
    "collapsed": false
   },
   "outputs": [
    {
     "data": {
      "text/html": [
       "<table class=\"data-frame\"><thead><tr><th></th><th>1</th><th>potential</th></tr></thead><tbody><tr><th>1</th><td>1</td><td>54.59815003314428</td></tr><tr><th>2</th><td>2</td><td>0.018315638888734196</td></tr></tbody></table>"
      ],
      "text/plain": [
       "2 instantiations:\n",
       "  1 (2)"
      ]
     },
     "execution_count": 109,
     "metadata": {},
     "output_type": "execute_result"
    }
   ],
   "source": [
    "new_f = reduce(*, [f[other_assg] for f in factors])"
   ]
  },
  {
   "cell_type": "code",
   "execution_count": 112,
   "metadata": {
    "collapsed": false
   },
   "outputs": [
    {
     "data": {
      "text/plain": [
       "Dict{Symbol,Any} with 1 entry:\n",
       "  Symbol(\"1\") => 1"
      ]
     },
     "execution_count": 112,
     "metadata": {},
     "output_type": "execute_result"
    }
   ],
   "source": [
    "new_assg = rand(new_f)"
   ]
  },
  {
   "cell_type": "code",
   "execution_count": 113,
   "metadata": {
    "collapsed": false
   },
   "outputs": [
    {
     "data": {
      "text/plain": [
       "Dict{Symbol,Any} with 9 entries:\n",
       "  Symbol(\"2\") => 1\n",
       "  Symbol(\"4\") => 1\n",
       "  Symbol(\"9\") => 2\n",
       "  Symbol(\"7\") => 2\n",
       "  Symbol(\"6\") => 1\n",
       "  Symbol(\"8\") => 2\n",
       "  Symbol(\"1\") => 2\n",
       "  Symbol(\"5\") => 1\n",
       "  Symbol(\"3\") => 2"
      ]
     },
     "execution_count": 113,
     "metadata": {},
     "output_type": "execute_result"
    }
   ],
   "source": [
    "init"
   ]
  },
  {
   "cell_type": "code",
   "execution_count": 114,
   "metadata": {
    "collapsed": false
   },
   "outputs": [
    {
     "data": {
      "text/plain": [
       "Dict{Symbol,Any} with 9 entries:\n",
       "  Symbol(\"2\") => 1\n",
       "  Symbol(\"4\") => 1\n",
       "  Symbol(\"9\") => 2\n",
       "  Symbol(\"7\") => 2\n",
       "  Symbol(\"6\") => 1\n",
       "  Symbol(\"8\") => 2\n",
       "  Symbol(\"1\") => 2\n",
       "  Symbol(\"5\") => 1\n",
       "  Symbol(\"3\") => 2"
      ]
     },
     "execution_count": 114,
     "metadata": {},
     "output_type": "execute_result"
    }
   ],
   "source": [
    "merge(new_assg, init)"
   ]
  },
  {
   "cell_type": "code",
   "execution_count": 115,
   "metadata": {
    "collapsed": false
   },
   "outputs": [
    {
     "name": "stdout",
     "output_type": "stream",
     "text": [
      "search: \u001b[1mm\u001b[22m\u001b[1me\u001b[22m\u001b[1mr\u001b[22m\u001b[1mg\u001b[22m\u001b[1me\u001b[22m \u001b[1mm\u001b[22m\u001b[1me\u001b[22m\u001b[1mr\u001b[22m\u001b[1mg\u001b[22m\u001b[1me\u001b[22m! \u001b[1mM\u001b[22m\u001b[1me\u001b[22m\u001b[1mr\u001b[22m\u001b[1mg\u001b[22m\u001b[1me\u001b[22mSort esti\u001b[1mm\u001b[22mat\u001b[1me\u001b[22m_conve\u001b[1mr\u001b[22m\u001b[1mg\u001b[22m\u001b[1me\u001b[22mnce Hel\u001b[1mm\u001b[22m\u001b[1me\u001b[22m\u001b[1mr\u001b[22mtCodin\u001b[1mg\u001b[22m\n",
      "\n"
     ]
    },
    {
     "data": {
      "text/markdown": [
       "```\n",
       "merge(collection, others...)\n",
       "```\n",
       "\n",
       "Construct a merged collection from the given collections. If necessary, the types of the resulting collection will be promoted to accommodate the types of the merged collections. If the same key is present in another collection, the value for that key will be the value it has in the last collection listed.\n",
       "\n",
       "```jldoctest\n",
       "julia> a = Dict(\"foo\" => 0.0, \"bar\" => 42.0)\n",
       "Dict{String,Float64} with 2 entries:\n",
       "  \"bar\" => 42.0\n",
       "  \"foo\" => 0.0\n",
       "\n",
       "julia> b = Dict(\"baz\" => 17, \"bar\" => 4711)\n",
       "Dict{String,Int64} with 2 entries:\n",
       "  \"bar\" => 4711\n",
       "  \"baz\" => 17\n",
       "\n",
       "julia> merge(a, b)\n",
       "Dict{String,Float64} with 3 entries:\n",
       "  \"bar\" => 4711.0\n",
       "  \"baz\" => 17.0\n",
       "  \"foo\" => 0.0\n",
       "\n",
       "julia> merge(b, a)\n",
       "Dict{String,Float64} with 3 entries:\n",
       "  \"bar\" => 42.0\n",
       "  \"baz\" => 17.0\n",
       "  \"foo\" => 0.0\n",
       "```\n"
      ],
      "text/plain": [
       "```\n",
       "merge(collection, others...)\n",
       "```\n",
       "\n",
       "Construct a merged collection from the given collections. If necessary, the types of the resulting collection will be promoted to accommodate the types of the merged collections. If the same key is present in another collection, the value for that key will be the value it has in the last collection listed.\n",
       "\n",
       "```jldoctest\n",
       "julia> a = Dict(\"foo\" => 0.0, \"bar\" => 42.0)\n",
       "Dict{String,Float64} with 2 entries:\n",
       "  \"bar\" => 42.0\n",
       "  \"foo\" => 0.0\n",
       "\n",
       "julia> b = Dict(\"baz\" => 17, \"bar\" => 4711)\n",
       "Dict{String,Int64} with 2 entries:\n",
       "  \"bar\" => 4711\n",
       "  \"baz\" => 17\n",
       "\n",
       "julia> merge(a, b)\n",
       "Dict{String,Float64} with 3 entries:\n",
       "  \"bar\" => 4711.0\n",
       "  \"baz\" => 17.0\n",
       "  \"foo\" => 0.0\n",
       "\n",
       "julia> merge(b, a)\n",
       "Dict{String,Float64} with 3 entries:\n",
       "  \"bar\" => 42.0\n",
       "  \"baz\" => 17.0\n",
       "  \"foo\" => 0.0\n",
       "```\n"
      ]
     },
     "execution_count": 115,
     "metadata": {},
     "output_type": "execute_result"
    }
   ],
   "source": [
    "?merge"
   ]
  },
  {
   "cell_type": "code",
   "execution_count": null,
   "metadata": {
    "collapsed": true
   },
   "outputs": [],
   "source": []
  }
 ],
 "metadata": {
  "anaconda-cloud": {},
  "kernelspec": {
   "display_name": "Julia 0.5.0",
   "language": "julia",
   "name": "julia-0.5"
  },
  "language_info": {
   "file_extension": ".jl",
   "mimetype": "application/julia",
   "name": "julia",
   "version": "0.5.0"
  }
 },
 "nbformat": 4,
 "nbformat_minor": 0
}
